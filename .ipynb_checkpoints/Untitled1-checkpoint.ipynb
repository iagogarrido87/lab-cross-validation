{
 "cells": [
  {
   "cell_type": "code",
   "execution_count": 1,
   "id": "3a930100",
   "metadata": {},
   "outputs": [
    {
     "name": "stdout",
     "output_type": "stream",
     "text": [
      "Logistic Regression Accuracy (SMOTE): 0.7885024840312278\n",
      "Decision Tree Accuracy (SMOTE): 0.7388218594748048\n",
      "Logistic Regression Accuracy (TomekLinks): 0.8043972706595905\n",
      "Decision Tree Accuracy (TomekLinks): 0.7983320697498104\n"
     ]
    }
   ],
   "source": [
    "import pandas as pd\n",
    "from sklearn.model_selection import train_test_split\n",
    "from imblearn.over_sampling import SMOTE\n",
    "from imblearn.under_sampling import TomekLinks\n",
    "from sklearn.linear_model import LogisticRegression\n",
    "from sklearn.tree import DecisionTreeClassifier\n",
    "from sklearn.metrics import accuracy_score\n",
    "\n",
    "# Load the data\n",
    "data = pd.read_csv(\"files_for_lab/Customer-Churn.csv\")\n",
    "data  \n",
    "\n",
    "# Split the data into features (X) and labels (y)\n",
    "X = pd.get_dummies(data.drop('Churn', axis=1))\n",
    "y = data['Churn']\n",
    "\n",
    "# Split the data into training and testing sets (80% training, 20% testing)\n",
    "X_train, X_test, y_train, y_test = train_test_split(X, y, test_size=0.2, random_state=42, stratify=y)\n",
    "\n",
    "# SMOTE to upsample the data\n",
    "smote = SMOTE()\n",
    "X_train_smote, y_train_smote = smote.fit_resample(X_train, y_train)\n",
    "\n",
    "# Train a logistic regression model on SMOTE data\n",
    "logistic_regression = LogisticRegression(random_state=42, max_iter=100000)\n",
    "logistic_regression.fit(X_train_smote, y_train_smote)\n",
    "\n",
    "# Predict labels on the test set and calculate accuracy\n",
    "lr_predictions_smote = logistic_regression.predict(X_test)\n",
    "lr_accuracy_smote = accuracy_score(y_test, lr_predictions_smote)\n",
    "print(\"Logistic Regression Accuracy (SMOTE):\", lr_accuracy_smote)\n",
    "\n",
    "# Train a decision tree model on SMOTE data\n",
    "decision_tree = DecisionTreeClassifier()\n",
    "decision_tree.fit(X_train_smote, y_train_smote)\n",
    "\n",
    "# Predict labels on the test set and calculate accuracy\n",
    "dt_predictions_smote = decision_tree.predict(X_test)\n",
    "dt_accuracy_smote = accuracy_score(y_test, dt_predictions_smote)\n",
    "print(\"Decision Tree Accuracy (SMOTE):\", dt_accuracy_smote)\n",
    "\n",
    "# Apply TomekLinks to reduce sampling\n",
    "tomek = TomekLinks()\n",
    "X_tl, y_tl = tomek.fit_resample(X, y)\n",
    "\n",
    "# Split the reduced data into training and testing sets (80% training, 20% testing)\n",
    "X_train_tl, X_test_tl, y_train_tl, y_test_tl = train_test_split(X_tl, y_tl, test_size=0.2, random_state=42)\n",
    "\n",
    "# Train a logistic regression model on TomekLinks data\n",
    "logistic_regression_tl = LogisticRegression(random_state=42, max_iter=100000)\n",
    "logistic_regression_tl.fit(X_train_tl, y_train_tl)\n",
    "\n",
    "# Predict labels on the test set and calculate accuracy\n",
    "lr_predictions_tl = logistic_regression_tl.predict(X_test_tl)\n",
    "lr_accuracy_tl = accuracy_score(y_test_tl, lr_predictions_tl)\n",
    "print(\"Logistic Regression Accuracy (TomekLinks):\", lr_accuracy_tl)\n",
    "\n",
    "# Train a decision tree model on TomekLinks data\n",
    "decision_tree_tl = DecisionTreeClassifier()\n",
    "decision_tree_tl.fit(X_train_tl, y_train_tl)\n",
    "\n",
    "# Predict labels on the test set and calculate accuracy\n",
    "dt_predictions_tl = decision_tree_tl.predict(X_test_tl)\n",
    "dt_accuracy_tl = accuracy_score(y_test_tl, dt_predictions_tl)\n",
    "print(\"Decision Tree Accuracy (TomekLinks):\", dt_accuracy_tl)\n"
   ]
  }
 ],
 "metadata": {
  "kernelspec": {
   "display_name": "Python 3 (ipykernel)",
   "language": "python",
   "name": "python3"
  },
  "language_info": {
   "codemirror_mode": {
    "name": "ipython",
    "version": 3
   },
   "file_extension": ".py",
   "mimetype": "text/x-python",
   "name": "python",
   "nbconvert_exporter": "python",
   "pygments_lexer": "ipython3",
   "version": "3.9.13"
  }
 },
 "nbformat": 4,
 "nbformat_minor": 5
}
